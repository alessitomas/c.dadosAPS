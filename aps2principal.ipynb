{
 "cells": [
  {
   "cell_type": "markdown",
   "metadata": {},
   "source": [
    "<h1> APS2 </h1>\n",
    "\n",
    "- Análise bivariada, como dois indicadores se relacionam.\n",
    "\n",
    "\n",
    "\n",
    "Na parte 1 da APS, utilizamos o indicador \"Government expenditure on education, total (% of GDP)\" na análise. Já na parte 2, levamos em consideração também o indicador \"Unemployment, total (% of total labor force) (modeled ILO estimate)\" para assim, poder análisar o grau de relação entre esses dois indicadores. Antes da análise, pressupomos que esses indicadores teriam uma forte correlação já que, como a educação é uma das principais bases da sociedade, se não a principal, consequentemente um país que realiza um investimento maior neste setor teria uma taxa de desemprego menor, já que existiriam mais pessoas capacitadas para fazer parte do mercado de trabalho. Contrariamente, um país que não possui um investimento tão grande no setor da educação teria uma taxa de desemprego maior.\n",
    "Após a análise, foi possível concluir que a nossa hipótese não estava correta. Dentre os três Países analisados, a Noruega monstrou uma correlação média de 0.65 entre os indicadores e nos casos do Brasil e do Afeganistão a correlação foi baixa, 0.20 e - 0.02 respectivamente. Após essas observações, fica evidente a importância de uma análise fundamentada em dados, ao passo que apenas pela análise superficial estávamos tendendo a acreditar que os Países demonstrariam uma correlação alta e negativa, mostrando que os indicadores seriam bem relacionados e a medida que o investimento cresce o desemprego diminui.\n",
    "Dados:     \n",
    "\n",
    "Noruega  Correlação: 0.654306, Covariância: 0.242443\n",
    "\n",
    "Brasil Correlação: 0.204663, Covariância: 0.286128\n",
    "\n",
    "Afeganistão Correlação: -0.027527, Covariância: 0.010846"
   ]
  },
  {
   "cell_type": "code",
   "execution_count": 1,
   "metadata": {},
   "outputs": [],
   "source": [
    "import pandas as pd\n",
    "import matplotlib.pyplot as plt\n",
    "import seaborn as sns\n",
    "import numpy as np\n",
    "\n",
    "# lista dos anos que iremos analisar\n",
    "anos = [str(i) for i in range(2003,2019)]\n",
    "\n",
    "# lendo dados edu\n",
    "df_edu = pd.read_csv('dados/government_expenditure/API_SE.XPD.TOTL.GD.ZS_DS2_en_csv_v2_4411877.csv', skiprows=4, decimal='.')\n",
    "\n",
    "# data frames de educação 3 Países\n",
    "df_edu_br = df_edu[df_edu['Country Name'] == 'Brazil']\n",
    "df_edu_nor = df_edu[df_edu['Country Name'] == 'Norway']\n",
    "df_edu_afg = df_edu[df_edu['Country Name'] == 'Afghanistan']\n",
    "    \n",
    "        \n",
    "\n",
    "\n"
   ]
  },
  {
   "cell_type": "code",
   "execution_count": 2,
   "metadata": {},
   "outputs": [],
   "source": [
    "# lendo dados desem\n",
    "df_desem = pd.read_csv('dados/desemprego/API_SL.UEM.TOTL.ZS_DS2_en_csv_v2_4488595.csv', skiprows=4, decimal='.')\n",
    "\n",
    "# data frames de desemprego 3 Países\n",
    "df_desem_br = df_desem[df_desem['Country Name'] == 'Brazil']\n",
    "df_desem_nor = df_desem[df_desem['Country Name'] == 'Norway']\n",
    "df_desem_afg = df_desem[df_desem['Country Name'] == 'Afghanistan']\n"
   ]
  },
  {
   "cell_type": "code",
   "execution_count": 11,
   "metadata": {},
   "outputs": [
    {
     "ename": "KeyError",
     "evalue": "\"None of [Index(['2003', '2004', '2005', '2006', '2007', '2008', '2009', '2010', '2011',\\n       '2012', '2013', '2014', '2015', '2016', '2017', '2018'],\\n      dtype='object')] are in the [columns]\"",
     "output_type": "error",
     "traceback": [
      "\u001b[0;31m---------------------------------------------------------------------------\u001b[0m",
      "\u001b[0;31mKeyError\u001b[0m                                  Traceback (most recent call last)",
      "\u001b[1;32m/Users/tomasalessi/Faculdade/C_Dados-/APS/c.dadosAPS/aps2principal.ipynb Cell 4\u001b[0m in \u001b[0;36m<cell line: 3>\u001b[0;34m()\u001b[0m\n\u001b[1;32m      <a href='vscode-notebook-cell:/Users/tomasalessi/Faculdade/C_Dados-/APS/c.dadosAPS/aps2principal.ipynb#W3sZmlsZQ%3D%3D?line=0'>1</a>\u001b[0m \u001b[39m# plot de cada indicador definido pelos anos definidos\u001b[39;00m\n\u001b[1;32m      <a href='vscode-notebook-cell:/Users/tomasalessi/Faculdade/C_Dados-/APS/c.dadosAPS/aps2principal.ipynb#W3sZmlsZQ%3D%3D?line=1'>2</a>\u001b[0m plt\u001b[39m.\u001b[39mfigure(figsize\u001b[39m=\u001b[39m(\u001b[39m15\u001b[39m,\u001b[39m7\u001b[39m))\n\u001b[0;32m----> <a href='vscode-notebook-cell:/Users/tomasalessi/Faculdade/C_Dados-/APS/c.dadosAPS/aps2principal.ipynb#W3sZmlsZQ%3D%3D?line=2'>3</a>\u001b[0m plt\u001b[39m.\u001b[39mplot(anos,df_desem_nor[anos]\u001b[39m.\u001b[39miloc[\u001b[39m0\u001b[39m] , \u001b[39m\"\u001b[39m\u001b[39mr--\u001b[39m\u001b[39m\"\u001b[39m, color\u001b[39m=\u001b[39m \u001b[39m'\u001b[39m\u001b[39mred\u001b[39m\u001b[39m'\u001b[39m, label\u001b[39m=\u001b[39m \u001b[39m'\u001b[39m\u001b[39mDesemprego - Noruega\u001b[39m\u001b[39m'\u001b[39m)\n\u001b[1;32m      <a href='vscode-notebook-cell:/Users/tomasalessi/Faculdade/C_Dados-/APS/c.dadosAPS/aps2principal.ipynb#W3sZmlsZQ%3D%3D?line=3'>4</a>\u001b[0m plt\u001b[39m.\u001b[39mplot(anos,df_edu_nor[anos]\u001b[39m.\u001b[39miloc[\u001b[39m0\u001b[39m]  , color\u001b[39m=\u001b[39m \u001b[39m'\u001b[39m\u001b[39mred\u001b[39m\u001b[39m'\u001b[39m, label\u001b[39m=\u001b[39m \u001b[39m'\u001b[39m\u001b[39mInvestimento em Educação - Noruega\u001b[39m\u001b[39m'\u001b[39m)\n\u001b[1;32m      <a href='vscode-notebook-cell:/Users/tomasalessi/Faculdade/C_Dados-/APS/c.dadosAPS/aps2principal.ipynb#W3sZmlsZQ%3D%3D?line=4'>5</a>\u001b[0m plt\u001b[39m.\u001b[39mplot(anos,df_desem_br[anos]\u001b[39m.\u001b[39miloc[\u001b[39m0\u001b[39m]  , \u001b[39m\"\u001b[39m\u001b[39mr--\u001b[39m\u001b[39m\"\u001b[39m, color\u001b[39m=\u001b[39m \u001b[39m'\u001b[39m\u001b[39mblue\u001b[39m\u001b[39m'\u001b[39m, label\u001b[39m=\u001b[39m \u001b[39m'\u001b[39m\u001b[39mDesemprego - Brasil\u001b[39m\u001b[39m'\u001b[39m)\n",
      "File \u001b[0;32m/Library/Frameworks/Python.framework/Versions/3.9/lib/python3.9/site-packages/pandas/core/frame.py:3511\u001b[0m, in \u001b[0;36mDataFrame.__getitem__\u001b[0;34m(self, key)\u001b[0m\n\u001b[1;32m   3509\u001b[0m     \u001b[39mif\u001b[39;00m is_iterator(key):\n\u001b[1;32m   3510\u001b[0m         key \u001b[39m=\u001b[39m \u001b[39mlist\u001b[39m(key)\n\u001b[0;32m-> 3511\u001b[0m     indexer \u001b[39m=\u001b[39m \u001b[39mself\u001b[39;49m\u001b[39m.\u001b[39;49mcolumns\u001b[39m.\u001b[39;49m_get_indexer_strict(key, \u001b[39m\"\u001b[39;49m\u001b[39mcolumns\u001b[39;49m\u001b[39m\"\u001b[39;49m)[\u001b[39m1\u001b[39m]\n\u001b[1;32m   3513\u001b[0m \u001b[39m# take() does not accept boolean indexers\u001b[39;00m\n\u001b[1;32m   3514\u001b[0m \u001b[39mif\u001b[39;00m \u001b[39mgetattr\u001b[39m(indexer, \u001b[39m\"\u001b[39m\u001b[39mdtype\u001b[39m\u001b[39m\"\u001b[39m, \u001b[39mNone\u001b[39;00m) \u001b[39m==\u001b[39m \u001b[39mbool\u001b[39m:\n",
      "File \u001b[0;32m/Library/Frameworks/Python.framework/Versions/3.9/lib/python3.9/site-packages/pandas/core/indexes/base.py:5782\u001b[0m, in \u001b[0;36mIndex._get_indexer_strict\u001b[0;34m(self, key, axis_name)\u001b[0m\n\u001b[1;32m   5779\u001b[0m \u001b[39melse\u001b[39;00m:\n\u001b[1;32m   5780\u001b[0m     keyarr, indexer, new_indexer \u001b[39m=\u001b[39m \u001b[39mself\u001b[39m\u001b[39m.\u001b[39m_reindex_non_unique(keyarr)\n\u001b[0;32m-> 5782\u001b[0m \u001b[39mself\u001b[39;49m\u001b[39m.\u001b[39;49m_raise_if_missing(keyarr, indexer, axis_name)\n\u001b[1;32m   5784\u001b[0m keyarr \u001b[39m=\u001b[39m \u001b[39mself\u001b[39m\u001b[39m.\u001b[39mtake(indexer)\n\u001b[1;32m   5785\u001b[0m \u001b[39mif\u001b[39;00m \u001b[39misinstance\u001b[39m(key, Index):\n\u001b[1;32m   5786\u001b[0m     \u001b[39m# GH 42790 - Preserve name from an Index\u001b[39;00m\n",
      "File \u001b[0;32m/Library/Frameworks/Python.framework/Versions/3.9/lib/python3.9/site-packages/pandas/core/indexes/base.py:5842\u001b[0m, in \u001b[0;36mIndex._raise_if_missing\u001b[0;34m(self, key, indexer, axis_name)\u001b[0m\n\u001b[1;32m   5840\u001b[0m     \u001b[39mif\u001b[39;00m use_interval_msg:\n\u001b[1;32m   5841\u001b[0m         key \u001b[39m=\u001b[39m \u001b[39mlist\u001b[39m(key)\n\u001b[0;32m-> 5842\u001b[0m     \u001b[39mraise\u001b[39;00m \u001b[39mKeyError\u001b[39;00m(\u001b[39mf\u001b[39m\u001b[39m\"\u001b[39m\u001b[39mNone of [\u001b[39m\u001b[39m{\u001b[39;00mkey\u001b[39m}\u001b[39;00m\u001b[39m] are in the [\u001b[39m\u001b[39m{\u001b[39;00maxis_name\u001b[39m}\u001b[39;00m\u001b[39m]\u001b[39m\u001b[39m\"\u001b[39m)\n\u001b[1;32m   5844\u001b[0m not_found \u001b[39m=\u001b[39m \u001b[39mlist\u001b[39m(ensure_index(key)[missing_mask\u001b[39m.\u001b[39mnonzero()[\u001b[39m0\u001b[39m]]\u001b[39m.\u001b[39munique())\n\u001b[1;32m   5845\u001b[0m \u001b[39mraise\u001b[39;00m \u001b[39mKeyError\u001b[39;00m(\u001b[39mf\u001b[39m\u001b[39m\"\u001b[39m\u001b[39m{\u001b[39;00mnot_found\u001b[39m}\u001b[39;00m\u001b[39m not in index\u001b[39m\u001b[39m\"\u001b[39m)\n",
      "\u001b[0;31mKeyError\u001b[0m: \"None of [Index(['2003', '2004', '2005', '2006', '2007', '2008', '2009', '2010', '2011',\\n       '2012', '2013', '2014', '2015', '2016', '2017', '2018'],\\n      dtype='object')] are in the [columns]\""
     ]
    },
    {
     "data": {
      "text/plain": [
       "<Figure size 1080x504 with 0 Axes>"
      ]
     },
     "metadata": {},
     "output_type": "display_data"
    }
   ],
   "source": [
    "# plot de cada indicador definido pelos anos definidos\n",
    "plt.figure(figsize=(15,7))\n",
    "plt.plot(anos,df_desem_nor[anos].iloc[0] , \"r--\", color= 'red', label= 'Desemprego - Noruega')\n",
    "plt.plot(anos,df_edu_nor[anos].iloc[0]  , color= 'red', label= 'Investimento em Educação - Noruega')\n",
    "plt.plot(anos,df_desem_br[anos].iloc[0]  , \"r--\", color= 'blue', label= 'Desemprego - Brasil')\n",
    "plt.plot(anos,df_edu_br[anos].iloc[0] , color= 'blue', label= 'Investimento em Educação - Brasil')\n",
    "plt.plot(anos,df_desem_afg[anos].iloc[0] ,\"r--\", color= 'orange', label= 'Desemprego - Afeganistão')\n",
    "plt.plot(anos,df_edu_afg[anos].iloc[0] ,color= 'orange', label= 'Investimento em Educação - Afeganistão')\n",
    "\n",
    "# legendas e labels\n",
    "plt.title('Comparativo entre a porcentagem de desemprego e a porcentagem do PIB investida\\n em educação entre Brasil, Noruega e Afeganistão (2003, 2018)', y=1.07, fontsize=15)\n",
    "plt.legend(loc='upper center', bbox_to_anchor=(0.5, 1.075), ncol=3, fancybox=True, shadow=True)\n",
    "plt.xlabel('Anos')\n",
    "plt.ylabel('Porcentagem (%)')\n",
    "plt.xticks(anos)\n",
    "plt.show()\n"
   ]
  },
  {
   "cell_type": "markdown",
   "metadata": {},
   "source": [
    "# Análises bivariadas"
   ]
  },
  {
   "cell_type": "markdown",
   "metadata": {},
   "source": [
    "* Norway"
   ]
  },
  {
   "cell_type": "code",
   "execution_count": 4,
   "metadata": {},
   "outputs": [
    {
     "data": {
      "text/html": [
       "<div>\n",
       "<style scoped>\n",
       "    .dataframe tbody tr th:only-of-type {\n",
       "        vertical-align: middle;\n",
       "    }\n",
       "\n",
       "    .dataframe tbody tr th {\n",
       "        vertical-align: top;\n",
       "    }\n",
       "\n",
       "    .dataframe thead th {\n",
       "        text-align: right;\n",
       "    }\n",
       "</style>\n",
       "<table border=\"1\" class=\"dataframe\">\n",
       "  <thead>\n",
       "    <tr style=\"text-align: right;\">\n",
       "      <th></th>\n",
       "      <th>desem</th>\n",
       "      <th>edu</th>\n",
       "    </tr>\n",
       "  </thead>\n",
       "  <tbody>\n",
       "    <tr>\n",
       "      <th>desem</th>\n",
       "      <td>1.000000</td>\n",
       "      <td>0.654306</td>\n",
       "    </tr>\n",
       "    <tr>\n",
       "      <th>edu</th>\n",
       "      <td>0.654306</td>\n",
       "      <td>1.000000</td>\n",
       "    </tr>\n",
       "  </tbody>\n",
       "</table>\n",
       "</div>"
      ],
      "text/plain": [
       "          desem       edu\n",
       "desem  1.000000  0.654306\n",
       "edu    0.654306  1.000000"
      ]
     },
     "execution_count": 4,
     "metadata": {},
     "output_type": "execute_result"
    }
   ],
   "source": [
    "df_edu_nor = df_edu[df_edu['Country Name'] == 'Norway']\n",
    "df_desem_nor = df_desem[df_desem['Country Name'] == 'Norway']\n",
    "\n",
    "df_desem_nor.head()\n",
    "df_edu_nor = df_edu_nor[anos].T\n",
    "df_edu_nor = df_edu_nor.rename(columns={177:'edu'}, errors=\"raise\")\n",
    "\n",
    "df_desem_nor = df_desem_nor[anos].T\n",
    "df_desem_nor = df_desem_nor.rename(columns={177:'desem'}, errors=\"raise\")\n",
    "\n",
    "df_merge = pd.concat((df_desem_nor,df_edu_nor), join = 'outer', axis =1)\n",
    "\n",
    "df_merge.corr()\n"
   ]
  },
  {
   "cell_type": "code",
   "execution_count": 5,
   "metadata": {},
   "outputs": [
    {
     "data": {
      "text/html": [
       "<div>\n",
       "<style scoped>\n",
       "    .dataframe tbody tr th:only-of-type {\n",
       "        vertical-align: middle;\n",
       "    }\n",
       "\n",
       "    .dataframe tbody tr th {\n",
       "        vertical-align: top;\n",
       "    }\n",
       "\n",
       "    .dataframe thead th {\n",
       "        text-align: right;\n",
       "    }\n",
       "</style>\n",
       "<table border=\"1\" class=\"dataframe\">\n",
       "  <thead>\n",
       "    <tr style=\"text-align: right;\">\n",
       "      <th></th>\n",
       "      <th>desem</th>\n",
       "      <th>edu</th>\n",
       "    </tr>\n",
       "  </thead>\n",
       "  <tbody>\n",
       "    <tr>\n",
       "      <th>desem</th>\n",
       "      <td>0.432246</td>\n",
       "      <td>0.242443</td>\n",
       "    </tr>\n",
       "    <tr>\n",
       "      <th>edu</th>\n",
       "      <td>0.242443</td>\n",
       "      <td>0.317634</td>\n",
       "    </tr>\n",
       "  </tbody>\n",
       "</table>\n",
       "</div>"
      ],
      "text/plain": [
       "          desem       edu\n",
       "desem  0.432246  0.242443\n",
       "edu    0.242443  0.317634"
      ]
     },
     "execution_count": 5,
     "metadata": {},
     "output_type": "execute_result"
    }
   ],
   "source": [
    "df_merge.cov()"
   ]
  },
  {
   "cell_type": "markdown",
   "metadata": {},
   "source": [
    "* Brazil"
   ]
  },
  {
   "cell_type": "code",
   "execution_count": 6,
   "metadata": {},
   "outputs": [
    {
     "data": {
      "text/html": [
       "<div>\n",
       "<style scoped>\n",
       "    .dataframe tbody tr th:only-of-type {\n",
       "        vertical-align: middle;\n",
       "    }\n",
       "\n",
       "    .dataframe tbody tr th {\n",
       "        vertical-align: top;\n",
       "    }\n",
       "\n",
       "    .dataframe thead th {\n",
       "        text-align: right;\n",
       "    }\n",
       "</style>\n",
       "<table border=\"1\" class=\"dataframe\">\n",
       "  <thead>\n",
       "    <tr style=\"text-align: right;\">\n",
       "      <th></th>\n",
       "      <th>desem</th>\n",
       "      <th>edu</th>\n",
       "    </tr>\n",
       "  </thead>\n",
       "  <tbody>\n",
       "    <tr>\n",
       "      <th>desem</th>\n",
       "      <td>1.000000</td>\n",
       "      <td>0.204663</td>\n",
       "    </tr>\n",
       "    <tr>\n",
       "      <th>edu</th>\n",
       "      <td>0.204663</td>\n",
       "      <td>1.000000</td>\n",
       "    </tr>\n",
       "  </tbody>\n",
       "</table>\n",
       "</div>"
      ],
      "text/plain": [
       "          desem       edu\n",
       "desem  1.000000  0.204663\n",
       "edu    0.204663  1.000000"
      ]
     },
     "execution_count": 6,
     "metadata": {},
     "output_type": "execute_result"
    }
   ],
   "source": [
    "df_edu_br = df_edu[df_edu['Country Name'] == 'Brazil']\n",
    "df_desem_br = df_desem[df_desem['Country Name'] == 'Brazil']\n",
    "\n",
    "df_edu_br = df_edu_br[anos].T\n",
    "\n",
    "df_edu_br = df_edu_br.rename(columns={29:'edu'}, errors=\"raise\")\n",
    "\n",
    "df_desem_br = df_desem_br[anos].T\n",
    "df_desem_br = df_desem_br.rename(columns={29:'desem'}, errors=\"raise\")\n",
    "\n",
    "df_merge = pd.concat((df_desem_br,df_edu_br), join = 'outer', axis =1)\n",
    "\n",
    "df_merge.corr()\n"
   ]
  },
  {
   "cell_type": "code",
   "execution_count": 7,
   "metadata": {},
   "outputs": [
    {
     "data": {
      "text/html": [
       "<div>\n",
       "<style scoped>\n",
       "    .dataframe tbody tr th:only-of-type {\n",
       "        vertical-align: middle;\n",
       "    }\n",
       "\n",
       "    .dataframe tbody tr th {\n",
       "        vertical-align: top;\n",
       "    }\n",
       "\n",
       "    .dataframe thead th {\n",
       "        text-align: right;\n",
       "    }\n",
       "</style>\n",
       "<table border=\"1\" class=\"dataframe\">\n",
       "  <thead>\n",
       "    <tr style=\"text-align: right;\">\n",
       "      <th></th>\n",
       "      <th>desem</th>\n",
       "      <th>edu</th>\n",
       "    </tr>\n",
       "  </thead>\n",
       "  <tbody>\n",
       "    <tr>\n",
       "      <th>desem</th>\n",
       "      <td>3.830393</td>\n",
       "      <td>0.286128</td>\n",
       "    </tr>\n",
       "    <tr>\n",
       "      <th>edu</th>\n",
       "      <td>0.286128</td>\n",
       "      <td>0.487889</td>\n",
       "    </tr>\n",
       "  </tbody>\n",
       "</table>\n",
       "</div>"
      ],
      "text/plain": [
       "          desem       edu\n",
       "desem  3.830393  0.286128\n",
       "edu    0.286128  0.487889"
      ]
     },
     "execution_count": 7,
     "metadata": {},
     "output_type": "execute_result"
    }
   ],
   "source": [
    "df_merge.cov()"
   ]
  },
  {
   "cell_type": "markdown",
   "metadata": {},
   "source": [
    "* Afghanistan"
   ]
  },
  {
   "cell_type": "code",
   "execution_count": 8,
   "metadata": {},
   "outputs": [
    {
     "data": {
      "text/html": [
       "<div>\n",
       "<style scoped>\n",
       "    .dataframe tbody tr th:only-of-type {\n",
       "        vertical-align: middle;\n",
       "    }\n",
       "\n",
       "    .dataframe tbody tr th {\n",
       "        vertical-align: top;\n",
       "    }\n",
       "\n",
       "    .dataframe thead th {\n",
       "        text-align: right;\n",
       "    }\n",
       "</style>\n",
       "<table border=\"1\" class=\"dataframe\">\n",
       "  <thead>\n",
       "    <tr style=\"text-align: right;\">\n",
       "      <th></th>\n",
       "      <th>desem</th>\n",
       "      <th>edu</th>\n",
       "    </tr>\n",
       "  </thead>\n",
       "  <tbody>\n",
       "    <tr>\n",
       "      <th>desem</th>\n",
       "      <td>1.000000</td>\n",
       "      <td>-0.027527</td>\n",
       "    </tr>\n",
       "    <tr>\n",
       "      <th>edu</th>\n",
       "      <td>-0.027527</td>\n",
       "      <td>1.000000</td>\n",
       "    </tr>\n",
       "  </tbody>\n",
       "</table>\n",
       "</div>"
      ],
      "text/plain": [
       "          desem       edu\n",
       "desem  1.000000 -0.027527\n",
       "edu   -0.027527  1.000000"
      ]
     },
     "execution_count": 8,
     "metadata": {},
     "output_type": "execute_result"
    }
   ],
   "source": [
    "df_edu_afg = df_edu[df_edu['Country Name'] == 'Afghanistan']\n",
    "df_desem_afg = df_desem[df_desem['Country Name'] == 'Afghanistan']\n",
    "\n",
    "df_edu_afg = df_edu_afg[anos].T\n",
    "\n",
    "df_edu_afg = df_edu_afg.rename(columns={2:'edu'}, errors=\"raise\")\n",
    "\n",
    "df_desem_afg = df_desem_afg[anos].T\n",
    "df_desem_afg = df_desem_afg.rename(columns={2:'desem'}, errors=\"raise\")\n",
    "\n",
    "df_merge = pd.concat((df_desem_afg,df_edu_afg), join = 'outer', axis =1)\n",
    "\n",
    "df_merge.corr()\n"
   ]
  },
  {
   "cell_type": "code",
   "execution_count": 9,
   "metadata": {},
   "outputs": [
    {
     "data": {
      "text/html": [
       "<div>\n",
       "<style scoped>\n",
       "    .dataframe tbody tr th:only-of-type {\n",
       "        vertical-align: middle;\n",
       "    }\n",
       "\n",
       "    .dataframe tbody tr th {\n",
       "        vertical-align: top;\n",
       "    }\n",
       "\n",
       "    .dataframe thead th {\n",
       "        text-align: right;\n",
       "    }\n",
       "</style>\n",
       "<table border=\"1\" class=\"dataframe\">\n",
       "  <thead>\n",
       "    <tr style=\"text-align: right;\">\n",
       "      <th></th>\n",
       "      <th>desem</th>\n",
       "      <th>edu</th>\n",
       "    </tr>\n",
       "  </thead>\n",
       "  <tbody>\n",
       "    <tr>\n",
       "      <th>desem</th>\n",
       "      <td>0.010846</td>\n",
       "      <td>-0.000881</td>\n",
       "    </tr>\n",
       "    <tr>\n",
       "      <th>edu</th>\n",
       "      <td>-0.000881</td>\n",
       "      <td>0.109594</td>\n",
       "    </tr>\n",
       "  </tbody>\n",
       "</table>\n",
       "</div>"
      ],
      "text/plain": [
       "          desem       edu\n",
       "desem  0.010846 -0.000881\n",
       "edu   -0.000881  0.109594"
      ]
     },
     "execution_count": 9,
     "metadata": {},
     "output_type": "execute_result"
    }
   ],
   "source": [
    "df_merge.cov()"
   ]
  }
 ],
 "metadata": {
  "kernelspec": {
   "display_name": "Python 3.9.10 64-bit",
   "language": "python",
   "name": "python3"
  },
  "language_info": {
   "codemirror_mode": {
    "name": "ipython",
    "version": 3
   },
   "file_extension": ".py",
   "mimetype": "text/x-python",
   "name": "python",
   "nbconvert_exporter": "python",
   "pygments_lexer": "ipython3",
   "version": "3.9.10"
  },
  "orig_nbformat": 4,
  "vscode": {
   "interpreter": {
    "hash": "aee8b7b246df8f9039afb4144a1f6fd8d2ca17a180786b69acc140d282b71a49"
   }
  }
 },
 "nbformat": 4,
 "nbformat_minor": 2
}
