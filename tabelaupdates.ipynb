{
 "cells": [
  {
   "cell_type": "markdown",
   "metadata": {},
   "source": [
    "# Mudanças da APS passadas\n",
    "\n",
    "APS1 - NOTA 10\n",
    "APS2 - Texto alterado, reduzido e objetivo"
   ]
  }
 ],
 "metadata": {
  "language_info": {
   "name": "python"
  },
  "orig_nbformat": 4
 },
 "nbformat": 4,
 "nbformat_minor": 2
}
