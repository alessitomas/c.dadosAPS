{
 "cells": [
  {
   "cell_type": "code",
   "execution_count": 11,
   "metadata": {},
   "outputs": [],
   "source": [
    "import pandas as pd"
   ]
  },
  {
   "cell_type": "markdown",
   "metadata": {},
   "source": [
    "# APS4"
   ]
  },
  {
   "cell_type": "markdown",
   "metadata": {},
   "source": [
    "Parte 4: Teste de hipótese\n",
    "Conduzir testes inferenciais adequados que possam dar base à tomada de decisão\n",
    "\n",
    "Embora seja um clichê pensarmos que alguns grupos de países são mais avançados que outros, isso nem sempre se confirma quando observamos dados. Nesta parte do trabalho, verificaremos se temos dados suficientes para justificar afirmações como esta. Tome por base o modelo estatístico que você encontrou na etapa anterior para as classificações “avançado” ou “atrasado” de países e:"
   ]
  },
  {
   "cell_type": "markdown",
   "metadata": {},
   "source": [
    "# 1:Para cada bloco, encontre a probabilidade de um país sorteado aleatoriamente naquele bloco ser da categoria “avançado” (isto é: P(avançado|bloco))."
   ]
  },
  {
   "cell_type": "code",
   "execution_count": 12,
   "metadata": {},
   "outputs": [
    {
     "name": "stdout",
     "output_type": "stream",
     "text": [
      "12.001642776320027\n"
     ]
    },
    {
     "name": "stderr",
     "output_type": "stream",
     "text": [
      "/var/folders/8n/d_gn0k3x4k98s_41gm5jms180000gn/T/ipykernel_11486/1762232503.py:28: FutureWarning: Dropping of nuisance columns in DataFrame reductions (with 'numeric_only=None') is deprecated; in a future version this will raise TypeError.  Select only valid columns before calling the reduction.\n",
      "  df_ue['media'] = df_ue.mean(axis=1)\n",
      "/var/folders/8n/d_gn0k3x4k98s_41gm5jms180000gn/T/ipykernel_11486/1762232503.py:32: FutureWarning: Dropping of nuisance columns in DataFrame reductions (with 'numeric_only=None') is deprecated; in a future version this will raise TypeError.  Select only valid columns before calling the reduction.\n",
      "  df_otan['media'] = df_otan.mean(axis=1)\n",
      "/var/folders/8n/d_gn0k3x4k98s_41gm5jms180000gn/T/ipykernel_11486/1762232503.py:37: FutureWarning: Dropping of nuisance columns in DataFrame reductions (with 'numeric_only=None') is deprecated; in a future version this will raise TypeError.  Select only valid columns before calling the reduction.\n",
      "  df_conjunto['media'] = df_conjunto.mean(axis=1)\n"
     ]
    }
   ],
   "source": [
    "df = pd.read_csv('dados/dataset.csv' , skiprows=4, decimal='.', encoding='latin')\n",
    "df.head()\n",
    "\n",
    "\n",
    "\n",
    "paises_eu = ['Austria', 'Belgium', 'Bulgaria', 'Croatia', 'Cyprus', 'Czech Republic', 'Denmark', 'Estonia', 'Finland', 'France', 'Germany', 'Greece', 'Hungary', 'Ireland', 'Italy', 'Latvia', 'Lithuania', 'Luxembourg', 'Malta', 'Netherlands', 'Poland', 'Portugal', 'Romania', 'Slovak Republic', 'Slovenia', 'Spain', 'Sweden']\n",
    "paises_otan = ['Albania', 'Algeria', 'Andorra', 'Armenia', 'Azerbaijan', 'Belarus', 'Bosnia and Herzegovina', 'Canada', 'Croatia', 'Cyprus', 'Czech Republic', 'Denmark', 'Estonia', 'Finland', 'France', 'Georgia', 'Germany', 'Greece', 'Hungary', 'Iceland', 'Ireland', 'Italy', 'Kazakhstan', 'Kosovo', 'Latvia', 'Liechtenstein', 'Lithuania', 'Luxembourg', 'Macedonia', 'Malta', 'Moldova', 'Monaco', 'Montenegro', 'Netherlands', 'Norway', 'Poland', 'Portugal', 'Romania', 'Russia', 'San Marino', 'Serbia', 'Slovak Republic', 'Slovenia', 'Spain', 'Sweden', 'Switzerland', 'Turkey', 'Ukraine', 'United Kingdom', 'United States']\n",
    "\n",
    "# Excluindo os países repetidos\n",
    "for pais in paises_eu:\n",
    "    if pais in paises_otan:\n",
    "        paises_otan.remove(pais)\n",
    "\n",
    "# Criando um DataFrame com os países da OTAN, UE e um total\n",
    "df_ue = df[df['Country Name'].isin(paises_eu)]\n",
    "df_otan = df[df['Country Name'].isin(paises_otan)]\n",
    "df_conjunto = pd.concat([df_ue, df_otan])\n",
    "\n",
    "# Selecionando os anos indesejados do DataFrame\n",
    "anos=[]\n",
    "for ano in range(1960, 2005):\n",
    "    anos.append(str(ano))\n",
    "\n",
    "\n",
    "# Excluíndo colunas indesejadas\n",
    "df_ue = df_ue.drop(columns=['Country Code', 'Indicator Name', 'Indicator Code', 'Unnamed: 66'])\n",
    "df_ue = df_ue.drop(anos, axis=1)\n",
    "df_ue['media'] = df_ue.mean(axis=1)\n",
    "\n",
    "df_otan = df_otan.drop(columns=['Country Code', 'Indicator Name', 'Indicator Code', 'Unnamed: 66'])\n",
    "df_otan = df_otan.drop(anos, axis=1)\n",
    "df_otan['media'] = df_otan.mean(axis=1)\n",
    "df_otan\n",
    "\n",
    "df_conjunto = df_conjunto.drop(columns=['Country Code', 'Indicator Name', 'Indicator Code', 'Unnamed: 66'])\n",
    "df_conjunto = df_conjunto.drop(anos, axis=1)\n",
    "df_conjunto['media'] = df_conjunto.mean(axis=1)\n",
    "\n",
    "# Calculando a média do conjunto de países da OTAN e UE\n",
    "media = df_conjunto['media'].mean()\n",
    "print(media)"
   ]
  }
 ],
 "metadata": {
  "kernelspec": {
   "display_name": "Python 3.9.10 64-bit",
   "language": "python",
   "name": "python3"
  },
  "language_info": {
   "codemirror_mode": {
    "name": "ipython",
    "version": 3
   },
   "file_extension": ".py",
   "mimetype": "text/x-python",
   "name": "python",
   "nbconvert_exporter": "python",
   "pygments_lexer": "ipython3",
   "version": "3.9.10"
  },
  "orig_nbformat": 4,
  "vscode": {
   "interpreter": {
    "hash": "aee8b7b246df8f9039afb4144a1f6fd8d2ca17a180786b69acc140d282b71a49"
   }
  }
 },
 "nbformat": 4,
 "nbformat_minor": 2
}
